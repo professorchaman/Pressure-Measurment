{
 "cells": [
  {
   "cell_type": "code",
   "execution_count": 1,
   "metadata": {},
   "outputs": [],
   "source": [
    "import selenium\n",
    "import os\n",
    "from selenium import webdriver"
   ]
  },
  {
   "cell_type": "code",
   "execution_count": 10,
   "metadata": {},
   "outputs": [
    {
     "name": "stdout",
     "output_type": "stream",
     "text": [
      "Success!\n"
     ]
    }
   ],
   "source": [
    "import requests\n",
    "\n",
    "r = requests.get('http://kantor.50webs.com/ruby.htm')\n",
    "if r.status_code == 200:\n",
    "    print('Success!')"
   ]
  },
  {
   "cell_type": "code",
   "execution_count": 35,
   "metadata": {},
   "outputs": [
    {
     "name": "stdout",
     "output_type": "stream",
     "text": [
      "Meassured Pressure : -0.59 GPa\n"
     ]
    }
   ],
   "source": [
    "# Using Chrome to access web\n",
    "driver = webdriver.Chrome(executable_path=r'D:/Installers/chromedriver_win32_2/chromedriver.exe')\n",
    "# Open the website\n",
    "driver.get('http://kantor.50webs.com/ruby.htm')\n",
    "driver.implicitly_wait(0.5)\n",
    "driver.find_element_by_name(\"lambda\").clear()\n",
    "\n",
    "meassured_peak = driver.find_element_by_name(\"lambda\").send_keys(\"694.00\")\n",
    "meassured_pressure = driver.find_element_by_id(\"pressure\").get_attribute('value')\n",
    "\n",
    "print(\"Meassured Pressure : %.2f GPa\"%float(meassured_pressure))\n",
    "driver.close()"
   ]
  },
  {
   "cell_type": "code",
   "execution_count": 2,
   "metadata": {},
   "outputs": [],
   "source": [
    "# Import libraries\n",
    "from APfuncs import *\n",
    "from ipywidgets import *\n",
    "from IPython.display import display, Javascript\n",
    "from scipy.optimize import curve_fit\n",
    "import numpy as np\n",
    "import matplotlib.pyplot as plt\n",
    "from scipy.interpolate import CubicSpline                    # Safe smooth interpolation\n",
    "from scipy.signal import find_peaks\n",
    "from scipy.signal import medfilt\n",
    "from scipy import signal\n",
    "\n",
    "\n",
    "import peakutils\n",
    "from peakutils.plot import plot as pplot\n",
    "from matplotlib.animation import FuncAnimation\n",
    "import matplotlib\n",
    "\n",
    "from scipy import stats\n",
    "\n",
    "from numpy.fft import fft, fftfreq, ifft\n",
    "\n",
    "import glob\n",
    "\n",
    "from tqdm import tqdm\n",
    "\n",
    "from __future__ import print_function\n",
    "from ipywidgets import interact, interactive, fixed, interact_manual\n",
    "import ipywidgets as widgets\n",
    "\n",
    "from renishawWiRE import WDFReader\n",
    "\n",
    "import selenium\n",
    "import os\n",
    "from selenium import webdriver"
   ]
  },
  {
   "cell_type": "code",
   "execution_count": 3,
   "metadata": {},
   "outputs": [],
   "source": [
    "class SelectFilesButton(widgets.Button):\n",
    "    \"\"\"A file widget that leverages tkinter.filedialog.\"\"\"\n",
    "\n",
    "    def __init__(self, *args, **kwargs):\n",
    "        \"\"\"Initialize the SelectFilesButton class.\"\"\"\n",
    "        super(SelectFilesButton, self).__init__(*args, **kwargs)\n",
    "        # Add the selected_files trait\n",
    "        self.add_traits(files=traitlets.traitlets.List())\n",
    "        # Create the button.\n",
    "        self.description = \"Select File\"\n",
    "        self.icon = \"square-o\"\n",
    "        self.style.button_color = \"orange\"\n",
    "        # Set on click behavior.\n",
    "        self.on_click(self.select_files)\n",
    "\n",
    "    @staticmethod\n",
    "    def select_files(b):\n",
    "        \"\"\"Generate instance of tkinter.filedialog.\n",
    "        Parameters\n",
    "        ----------\n",
    "        b : obj:\n",
    "            An instance of ipywidgets.widgets.Button\n",
    "        \"\"\"\n",
    "        # Create Tk root\n",
    "        root = Tk()\n",
    "        # Hide the main window\n",
    "        root.withdraw()\n",
    "        # Raise the root to the top of all windows.\n",
    "        root.call('wm', 'attributes', '.', '-topmost', True)\n",
    "        # List of selected fileswill be set to b.value\n",
    "        b.files = filedialog.askopenfilename(multiple=True)\n",
    "        f = b.files\n",
    "        '''\n",
    "        for i in range(0,len(f)):\n",
    "            print(i,f[i],end=\"\\n\")   # load preview cut process plot\n",
    "        '''\n",
    "        b.description = \"Files Selected\"\n",
    "        b.icon = \"check-square-o\"\n",
    "        b.style.button_color = \"lightgreen\"\n",
    "        b.layout = Layout( width='auto')"
   ]
  },
  {
   "cell_type": "code",
   "execution_count": 24,
   "metadata": {},
   "outputs": [],
   "source": [
    "#Functions for cleaning intensity correction files\n",
    "\n",
    "\n",
    "\n",
    "def f1(med_check): ## Median Filtering\n",
    "    \n",
    "    if med_check==True:\n",
    "        \n",
    "        k_size_med = widgets.IntSlider(value=3,min=1,max=11,step=2,description='Kernel Size',disabled=False,continuous_update=True,orientation='horizontal',readout=True,readout_format='d')\n",
    "        display(k_size_med)\n",
    "        \n",
    "def f2(savgol_check): ## Savgol Filtering\n",
    "    \n",
    "    if savgol_check==True:\n",
    "        \n",
    "        k_size_savgol = widgets.IntSlider(value=11,min=1,max=53,step=2,description='Kernel Size',disabled=False,continuous_update=True,orientation='horizontal',readout=True,readout_format='d')\n",
    "        display(k_size_savgol)\n",
    "        \n",
    "        p_order_savgol = widgets.IntSlider(value=1,min=1,max=11,step=2,description='Polynomial Order',disabled=False,continuous_update=True,orientation='horizontal',readout=True,readout_format='d')\n",
    "        display(p_order_savgol)\n",
    "\n",
    "def f3(clean_check):\n",
    "    \n",
    "    if clean_check==True:\n",
    "        \n",
    "        style = {'description_width': 'initial'}\n",
    "        erp = widgets.IntSlider(value=5,min=-10,max=100,step=1,description='Error Percentage %',disabled=False,continuous_update=True,orientation='horizontal',readout=True,readout_format='d',style=style)\n",
    "        display(erp)\n",
    "\n",
    "\n",
    "def f(intes_data_check):\n",
    "    \n",
    "    #clr_plot = widgets.ToggleButton(value=False,description='Click me',disabled=False,button_style='success',icon='check')\n",
    "    #display(clr_plt)\n",
    "    #clr\n",
    "    \n",
    "    if intes_data_check ==True:\n",
    "        \n",
    "        intes_data_check_value = 0\n",
    "        \n",
    "        style = {'description_width': 'initial'}\n",
    "        \n",
    "        med_check_w=widgets.Checkbox(value=False,description='Median Filtering',disabled=False,indent=False)\n",
    "        display(med_check_w)\n",
    "        interact(f1,med_check=med_check_w)\n",
    "        savgol_check_w=widgets.Checkbox(value=False,description='Savgol Filtering',disabled=False,indent=False)\n",
    "        interact(f2,savgol_check=savgol_check_w)\n",
    "        clean_check_w=widgets.Checkbox(value=False,description='Data Cleaning',disabled=False,indent=False)\n",
    "        interact(f3,clean_check=clean_check_w)\n",
    "        \n",
    "        \n",
    "        print(\"\\nSelect tungsten halogen (Blue Ocean optics HL2000) lamp spectrum for intensity correction \\n(optional; if none is chosen, default intensity correction factor will be used): \")\n",
    "        selectHalLamp_1 = SelectFilesButton()\n",
    "        display(selectHalLamp_1)\n",
    "        \n",
    "        min_val_intensity = widgets.BoundedFloatText(value=550,min=0,max=1000,step=0.1,description='Minimum Intensity',disabled=False,style=style)\n",
    "        display(min_val_intensity)\n",
    "        \n",
    "    else:\n",
    "        intes_data_check_value = 1\n",
    "        \n",
    "    return"
   ]
  },
  {
   "cell_type": "code",
   "execution_count": 25,
   "metadata": {},
   "outputs": [
    {
     "data": {
      "application/vnd.jupyter.widget-view+json": {
       "model_id": "7306ed59456f4f36b153d3238a71f9f2",
       "version_major": 2,
       "version_minor": 0
      },
      "text/plain": [
       "interactive(children=(Checkbox(value=False, description='Clean lamp data', indent=False), Output()), _dom_clas…"
      ]
     },
     "metadata": {},
     "output_type": "display_data"
    },
    {
     "data": {
      "text/plain": [
       "<function __main__.f(intes_data_check)>"
      ]
     },
     "execution_count": 25,
     "metadata": {},
     "output_type": "execute_result"
    }
   ],
   "source": [
    "intes_data_check_w=widgets.Checkbox(value=False,description='Clean lamp data',disabled=False,indent=False)\n",
    "#display(intes_data_check_w)\n",
    "interact(f,intes_data_check=intes_data_check_w)"
   ]
  },
  {
   "cell_type": "code",
   "execution_count": 18,
   "metadata": {},
   "outputs": [
    {
     "name": "stdout",
     "output_type": "stream",
     "text": [
      "True\n"
     ]
    },
    {
     "ename": "NameError",
     "evalue": "name 'med_check_w' is not defined",
     "output_type": "error",
     "traceback": [
      "\u001b[1;31m---------------------------------------------------------------------------\u001b[0m",
      "\u001b[1;31mNameError\u001b[0m                                 Traceback (most recent call last)",
      "\u001b[1;32m<ipython-input-18-3a28074f73ad>\u001b[0m in \u001b[0;36m<module>\u001b[1;34m\u001b[0m\n\u001b[0;32m      1\u001b[0m \u001b[0mprint\u001b[0m\u001b[1;33m(\u001b[0m\u001b[0mintes_data_check_w\u001b[0m\u001b[1;33m.\u001b[0m\u001b[0mvalue\u001b[0m\u001b[1;33m)\u001b[0m\u001b[1;33m\u001b[0m\u001b[1;33m\u001b[0m\u001b[0m\n\u001b[1;32m----> 2\u001b[1;33m \u001b[0mprint\u001b[0m\u001b[1;33m(\u001b[0m\u001b[0mmed_check_w\u001b[0m\u001b[1;33m.\u001b[0m\u001b[0mvalue\u001b[0m\u001b[1;33m)\u001b[0m\u001b[1;33m\u001b[0m\u001b[1;33m\u001b[0m\u001b[0m\n\u001b[0m\u001b[0;32m      3\u001b[0m \u001b[0mprint\u001b[0m\u001b[1;33m(\u001b[0m\u001b[0msavgol_check\u001b[0m\u001b[1;33m.\u001b[0m\u001b[0mvalue\u001b[0m\u001b[1;33m)\u001b[0m\u001b[1;33m\u001b[0m\u001b[1;33m\u001b[0m\u001b[0m\n\u001b[0;32m      4\u001b[0m \u001b[0mprint\u001b[0m\u001b[1;33m(\u001b[0m\u001b[0mclean_check\u001b[0m\u001b[1;33m.\u001b[0m\u001b[0mvalue\u001b[0m\u001b[1;33m)\u001b[0m\u001b[1;33m\u001b[0m\u001b[1;33m\u001b[0m\u001b[0m\n",
      "\u001b[1;31mNameError\u001b[0m: name 'med_check_w' is not defined"
     ]
    }
   ],
   "source": [
    "print(intes_data_check_w.value)\n",
    "print(med_check_w.value)\n",
    "print(savgol_check.value)\n",
    "print(clean_check.value)"
   ]
  }
 ],
 "metadata": {
  "kernelspec": {
   "display_name": "Python 3",
   "language": "python",
   "name": "python3"
  },
  "language_info": {
   "codemirror_mode": {
    "name": "ipython",
    "version": 3
   },
   "file_extension": ".py",
   "mimetype": "text/x-python",
   "name": "python",
   "nbconvert_exporter": "python",
   "pygments_lexer": "ipython3",
   "version": "3.8.5"
  },
  "varInspector": {
   "cols": {
    "lenName": 16,
    "lenType": 16,
    "lenVar": 40
   },
   "kernels_config": {
    "python": {
     "delete_cmd_postfix": "",
     "delete_cmd_prefix": "del ",
     "library": "var_list.py",
     "varRefreshCmd": "print(var_dic_list())"
    },
    "r": {
     "delete_cmd_postfix": ") ",
     "delete_cmd_prefix": "rm(",
     "library": "var_list.r",
     "varRefreshCmd": "cat(var_dic_list()) "
    }
   },
   "types_to_exclude": [
    "module",
    "function",
    "builtin_function_or_method",
    "instance",
    "_Feature"
   ],
   "window_display": false
  }
 },
 "nbformat": 4,
 "nbformat_minor": 4
}
