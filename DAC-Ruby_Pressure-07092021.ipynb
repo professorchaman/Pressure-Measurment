{
 "cells": [
  {
   "cell_type": "code",
   "execution_count": 1,
   "metadata": {
    "code_folding": [],
    "init_cell": true,
    "scrolled": true
   },
   "outputs": [
    {
     "data": {
      "text/html": [
       "<style>\n",
       ".output_wrapper, .output {\n",
       "    height:auto !important;\n",
       "    max-height:1000000px;  /* your desired max-height here */\n",
       "}\n",
       ".output_scroll {\n",
       "    box-shadow:none !important;\n",
       "    webkit-box-shadow:none !important;\n",
       "}\n",
       "</style>\n",
       "\n",
       "# This cell allows for all the output to be displayed without scrolling (up to the max-height var in pixels)\n"
      ],
      "text/plain": [
       "<IPython.core.display.HTML object>"
      ]
     },
     "metadata": {},
     "output_type": "display_data"
    }
   ],
   "source": [
    "%%html\n",
    "<style>\n",
    ".output_wrapper, .output {\n",
    "    height:auto !important;\n",
    "    max-height:1000000px;  /* your desired max-height here */\n",
    "}\n",
    ".output_scroll {\n",
    "    box-shadow:none !important;\n",
    "    webkit-box-shadow:none !important;\n",
    "}\n",
    "</style>\n",
    "\n",
    "# This cell allows for all the output to be displayed without scrolling (up to the max-height var in pixels)"
   ]
  },
  {
   "cell_type": "code",
   "execution_count": 1,
   "metadata": {
    "code_folding": [],
    "init_cell": true
   },
   "outputs": [
    {
     "ename": "ModuleNotFoundError",
     "evalue": "No module named 'renishawWiRE'",
     "output_type": "error",
     "traceback": [
      "\u001b[1;31m---------------------------------------------------------------------------\u001b[0m",
      "\u001b[1;31mModuleNotFoundError\u001b[0m                       Traceback (most recent call last)",
      "\u001b[1;32m<ipython-input-1-bd6320a0c804>\u001b[0m in \u001b[0;36m<module>\u001b[1;34m\u001b[0m\n\u001b[0;32m     35\u001b[0m \u001b[1;33m\u001b[0m\u001b[0m\n\u001b[0;32m     36\u001b[0m \u001b[1;33m\u001b[0m\u001b[0m\n\u001b[1;32m---> 37\u001b[1;33m \u001b[1;32mfrom\u001b[0m \u001b[0mrenishawWiRE\u001b[0m \u001b[1;32mimport\u001b[0m \u001b[0mWDFReader\u001b[0m\u001b[1;33m\u001b[0m\u001b[1;33m\u001b[0m\u001b[0m\n\u001b[0m\u001b[0;32m     38\u001b[0m \u001b[1;33m\u001b[0m\u001b[0m\n\u001b[0;32m     39\u001b[0m \u001b[1;32mimport\u001b[0m \u001b[0mselenium\u001b[0m\u001b[1;33m\u001b[0m\u001b[1;33m\u001b[0m\u001b[0m\n",
      "\u001b[1;31mModuleNotFoundError\u001b[0m: No module named 'renishawWiRE'"
     ]
    }
   ],
   "source": [
    "# Import libraries\n",
    "from APfuncs import *\n",
    "from ipywidgets import *\n",
    "from IPython.display import display, Javascript\n",
    "from scipy.optimize import curve_fit\n",
    "import numpy as np\n",
    "import matplotlib.pyplot as plt\n",
    "from scipy.interpolate import CubicSpline                    # Safe smooth interpolation\n",
    "from scipy.signal import find_peaks\n",
    "from scipy.signal import medfilt\n",
    "from scipy import signal\n",
    "\n",
    "\n",
    "import peakutils\n",
    "from peakutils.plot import plot as pplot\n",
    "from matplotlib.animation import FuncAnimation\n",
    "import matplotlib\n",
    "\n",
    "from scipy import stats\n",
    "\n",
    "from numpy.fft import fft, fftfreq, ifft\n",
    "\n",
    "import glob\n",
    "\n",
    "from tqdm import tqdm\n",
    "\n",
    "from __future__ import print_function\n",
    "from ipywidgets import interact, interactive, fixed, interact_manual\n",
    "import ipywidgets as widgets\n",
    "\n",
    "import os\n",
    "from scipy.optimize import curve_fit\n",
    "from ipywidgets import *\n",
    "from IPython.display import display, Javascript\n",
    "\n",
    "\n",
    "from renishawWiRE import WDFReader\n",
    "\n",
    "import selenium\n",
    "import os\n",
    "from selenium import webdriver\n",
    "from selenium.webdriver.chrome.service import Service\n",
    "from webdriver_manager.chrome import ChromeDriverManager\n",
    "from selenium.webdriver.common.by import By"
   ]
  },
  {
   "cell_type": "code",
   "execution_count": null,
   "metadata": {
    "code_folding": [
     0
    ],
    "init_cell": true
   },
   "outputs": [],
   "source": [
    "#Constatns\n",
    "h = 6.626e-34 #Planck's constant in Js\n",
    "heV = 4.136e-15 #Planck's constant in eVs\n",
    "c = 2.9979e8 #Speed of light in m/s\n",
    "kb = 1.381e-23 #Boltzmann constant in J/K\n",
    "kbeV = 8.617e-5 #Boltzmann constant in eV/K\n",
    "scale = 2e-9"
   ]
  },
  {
   "cell_type": "code",
   "execution_count": null,
   "metadata": {
    "code_folding": [
     0
    ],
    "init_cell": true
   },
   "outputs": [],
   "source": [
    "class SelectFilesButton(widgets.Button):\n",
    "    \"\"\"A file widget that leverages tkinter.filedialog.\"\"\"\n",
    "\n",
    "    def __init__(self, *args, **kwargs):\n",
    "        \"\"\"Initialize the SelectFilesButton class.\"\"\"\n",
    "        super(SelectFilesButton, self).__init__(*args, **kwargs)\n",
    "        # Add the selected_files trait\n",
    "        self.add_traits(files=traitlets.traitlets.List())\n",
    "        # Create the button.\n",
    "        self.description = \"Select File\"\n",
    "        self.icon = \"square-o\"\n",
    "        self.style.button_color = \"orange\"\n",
    "        # Set on click behavior.\n",
    "        self.on_click(self.select_files)\n",
    "\n",
    "    @staticmethod\n",
    "    def select_files(b):\n",
    "        \"\"\"Generate instance of tkinter.filedialog.\n",
    "        Parameters\n",
    "        ----------\n",
    "        b : obj:\n",
    "            An instance of ipywidgets.widgets.Button\n",
    "        \"\"\"\n",
    "        # Create Tk root\n",
    "        root = Tk()\n",
    "        # Hide the main window\n",
    "        root.withdraw()\n",
    "        # Raise the root to the top of all windows.\n",
    "        root.call('wm', 'attributes', '.', '-topmost', True)\n",
    "        # List of selected fileswill be set to b.value\n",
    "        b.files = filedialog.askopenfilename(multiple=True)\n",
    "        f = b.files\n",
    "        '''\n",
    "        for i in range(0,len(f)):\n",
    "            print(i,f[i],end=\"\\n\")   # load preview cut process plot\n",
    "        '''\n",
    "        b.description = \"Files Selected\"\n",
    "        b.icon = \"check-square-o\"\n",
    "        b.style.button_color = \"lightgreen\"\n",
    "        b.layout = Layout( width='auto')"
   ]
  },
  {
   "cell_type": "code",
   "execution_count": null,
   "metadata": {
    "code_folding": [
     0
    ],
    "init_cell": true
   },
   "outputs": [],
   "source": [
    "def get_data(f,i):\n",
    "\n",
    "    data = pd.read_csv(f[i], sep=None, engine='python', names=['col_a_data','col_b_data',c])\n",
    "    x = data['col_a_data'].to_numpy()\n",
    "    y = data['col_b_data'].to_numpy()\n",
    "    \n",
    "    return x,y"
   ]
  },
  {
   "cell_type": "code",
   "execution_count": null,
   "metadata": {
    "code_folding": [
     0
    ],
    "init_cell": true
   },
   "outputs": [],
   "source": [
    "def get_data_MAF_RW(f,i):\n",
    "    \n",
    "    data = pd.read_csv(f[i], sep='\\t', skiprows=1, names=['col_a_data','col_b_data'])\n",
    "    \n",
    "    x = data['col_a_data'].to_numpy()\n",
    "    y = data['col_b_data'].to_numpy()\n",
    "    \n",
    "    return x,y"
   ]
  },
  {
   "cell_type": "code",
   "execution_count": null,
   "metadata": {
    "code_folding": [
     0
    ],
    "init_cell": true
   },
   "outputs": [],
   "source": [
    "def data_cleaning(data,erp):\n",
    "    \n",
    "    # Code to remove cosmic rays\n",
    "    #erp=100 # Set percentage error limit\n",
    "    err=erp/100\n",
    "\n",
    "    Ndatapts = len(data)\n",
    "    ydata = data\n",
    "\n",
    "    for i in range(0,Ndatapts): # This loop removes hot regions one pixel wide\n",
    "        if i>0 and i<Ndatapts-1:\n",
    "            if ydata[i]>(1+err)*ydata[i+1] and ydata[i]>(1+err)*ydata[i-1]:\n",
    "                #print('Entered the loop 1')\n",
    "                ydata[i]=(ydata[i-1]+ydata[i+1])/2\n",
    "\n",
    "    for i in range(0,Ndatapts): # This loop removes hot regions up to 3 pixels wide\n",
    "        if i>1 and i<Ndatapts-2 and ydata[i]>(1+err)*ydata[i+2] and ydata[i]>(1+err)*ydata[i-2]:\n",
    "            #print('Entered the loop 3')\n",
    "            ydata[i], ydata[i-1], ydata[i+1] = (ydata[i-2]+ydata[i+2])/2, (ydata[i]+ydata[i-2])/2, (ydata[i+2]+ydata[i])/2\n",
    "\n",
    "    for i in range(0,Ndatapts): # This loop removes hot regions up to 5 pixels wide\n",
    "        if i>4 and i<Ndatapts-5 and ydata[i]>(1+err)*ydata[i+5] and ydata[i]>(1+err)*ydata[i-5]:\n",
    "            #print('Entered the loop 3')\n",
    "            ydata[i], ydata[i-1], ydata[i-2], ydata[i-3], ydata[i-4], ydata[i+1], ydata[i+2], ydata[i+3], ydata[i+4] = (ydata[i-5]+ydata[i+5])/2, (ydata[i]+ydata[i-2])/2, (ydata[i-1]+ydata[i-3])/2, (ydata[i-2]+ydata[i-4])/2, (ydata[i-3]+ydata[i-5])/2, (ydata[i+2]+ydata[i])/2, (ydata[i+3]+ydata[i+1])/2, (ydata[i+4]+ydata[i+2])/2, (ydata[i+5]+ydata[i+3])/2\n",
    "\n",
    "    for i in range(0,Ndatapts): # This loop removes dead regions one pixel wide\n",
    "        if i>0 and i<Ndatapts-1 and ydata[i]<(1-err)*ydata[i+1] and ydata[i]<(1-err)*ydata[i-1]:\n",
    "            #print('Entered the loop 4')\n",
    "            ydata[i]=(ydata[i-1]+ydata[i+1])/2\n",
    "\n",
    "    for i in range(0,Ndatapts): # This loop removes dead regions up to 3 pixels wide\n",
    "        if i>1 and i<Ndatapts-2 and ydata[i]<(1-err)*ydata[i+2] and ydata[i]<(1-err)*ydata[i-2]:\n",
    "            #print('Entered the loop 5')\n",
    "            ydata[i], ydata[i-1], ydata[i+1] =(ydata[i-2]+ydata[i+2])/2, (ydata[i]+ydata[i-2])/2, (ydata[i+2]+ydata[i])/2\n",
    "\n",
    "    #plt.plot(wvl,ydata)\n",
    "    #plt.show()\n",
    "    \n",
    "    return ydata"
   ]
  },
  {
   "cell_type": "code",
   "execution_count": null,
   "metadata": {
    "code_folding": [
     0
    ],
    "init_cell": true
   },
   "outputs": [],
   "source": [
    "def subtract_bsl(data,p_order):\n",
    "    \n",
    "    base = peakutils.baseline(data,p_order)\n",
    "    \n",
    "    return base"
   ]
  },
  {
   "cell_type": "code",
   "execution_count": null,
   "metadata": {
    "code_folding": [
     0
    ],
    "init_cell": true
   },
   "outputs": [],
   "source": [
    "def filter_savgol(data,k_size,p_order):\n",
    "    \n",
    "    data[np.isnan(data)] = 0\n",
    "    \n",
    "    sav_filt_data=signal.savgol_filter(data,k_size,p_order)\n",
    "    \n",
    "    return sav_filt_data"
   ]
  },
  {
   "cell_type": "code",
   "execution_count": 2,
   "metadata": {
    "code_folding": [
     0
    ],
    "init_cell": true
   },
   "outputs": [],
   "source": [
    "def filter_median(data,k_size):\n",
    "    \n",
    "    filt_data = medfilt(data,kernel_size=k_size)\n",
    " \n",
    "    #plt.figure()\n",
    "    #plt.plot(x_data,filt_data,label='Median Filtered Data')\n",
    "    #plt.plot(wvl,y_data/np.max(y_data),label='Actual Data')\n",
    "    #plt.plot(peak_x,peak_y/np.max(intens_data),'ob')\n",
    "    #plt.title(fdata[i])\n",
    "    #plt.legend()\n",
    "    #plt.show()\n",
    "    \n",
    "    return filt_data"
   ]
  },
  {
   "cell_type": "code",
   "execution_count": 3,
   "metadata": {
    "code_folding": [],
    "init_cell": true
   },
   "outputs": [],
   "source": [
    "def i_corr(f,i):\n",
    "    start = 0\n",
    "    end = -1\n",
    "\n",
    "    head_i, tail_i = os.path.split(f[i])\n",
    "    \n",
    "    ## Important note to change the location of this .txt file below to where it is in your computer.\n",
    "    calibstd = np.loadtxt(r\"G:\\Shared drives\\Pauzauskie Team Drive\\CG\\Scripts\\030410638_HL-2000-CAL_2014-01-15-14-09_VISEXT1EXT2_FIB.txt\")\n",
    "    xcalib = calibstd[:,0]\n",
    "    ycalib = calibstd[:,1]\n",
    "\n",
    "    x,y = get_data(f,i)\n",
    "\n",
    "    if len(fdark)!=0: #Does background correction if chosen\n",
    "        xdark, ydark = masterRead(fdark,0)\n",
    "        xdark=np.asarray(xdark, dtype=np.float32)\n",
    "        ydark=np.asarray(ydark, dtype=np.float32)\n",
    "        y=y-ydark\n",
    "    HglampFunc = CubicSpline(xcalib,ycalib)\n",
    "    hglampI = HglampFunc(x) # Create interpolation of true lamp spectrum\n",
    "\n",
    "    hglampdata_x, hglampdata_y = get_data(flamp,0) # Split true lamp spectra into x and y\n",
    "    \n",
    "    ICF = hglampI/(hglampdata_y) # Creates ratio of true lamp spectra to real lamp data, ICF = Intensity Correction Factor\n",
    "\n",
    "    ynew = (y)*ICF # multiplies real data by intensity correction factor\n",
    "\n",
    "    ynew = np.nan_to_num(ynew,nan=0,posinf=0,neginf=0)\n",
    "    datamatrix = np.column_stack((x,ynew)) # Compiles corrected data into a new matrix\n",
    "    savename = f[i][:-4]+\"_calib.txt\" # Create filename for new data\n",
    "    \n",
    "    head_c, tail_c = os.path.split(savename)\n",
    "    \n",
    "    np.savetxt(savename,datamatrix) # Save new data\n",
    "\n",
    "    return x,y,ynew"
   ]
  },
  {
   "cell_type": "code",
   "execution_count": 4,
   "metadata": {},
   "outputs": [],
   "source": [
    "def press_find(thresh,x_val,y_val,w_size,p_prom):\n",
    "    \n",
    "\n",
    "\n",
    "    if len(peak_x)>=1:\n",
    "\n",
    "        measured_peak = peak_x[np.argmin(np.abs(peak_x-694.55))]\n",
    "\n",
    "        # Using Chrome to access web\n",
    "        driver = webdriver.Chrome(service=Service(ChromeDriverManager().install()))\n",
    "        # Open the website\n",
    "        driver.get('http://kantor.50webs.com/ruby.htm')\n",
    "        driver.implicitly_wait(0.5)\n",
    "        driver.find_element(By.CLASS_NAME, \"lambda\").clear()\n",
    "\n",
    "        driver.find_element(By.CLASS_NAME, \"lambda\").send_keys(str(measured_peak))\n",
    "        measured_pressure = float(driver.find_element(By.ID,\"pressure\").get_attribute('value'))\n",
    "\n",
    "        #print(\"Meassured Pressure : %.2f GPa\" %measured_pressure)\n",
    "        driver.close()\n",
    "      \n",
    "    return measured_pressure"
   ]
  },
  {
   "cell_type": "markdown",
   "metadata": {
    "heading_collapsed": true
   },
   "source": [
    "## Clean the intensity correction data files"
   ]
  },
  {
   "cell_type": "code",
   "execution_count": 5,
   "metadata": {
    "code_folding": [],
    "hidden": true
   },
   "outputs": [],
   "source": [
    "#Functions for cleaning intensity correction files\n",
    "def f1(med_check): ## Median Filtering\n",
    "    \n",
    "    if med_check==True:\n",
    "        \n",
    "        k_size_med = widgets.IntSlider(value=3,min=1,max=11,step=2,description='Kernel Size',disabled=False,continuous_update=True,orientation='horizontal',readout=True,readout_format='d')\n",
    "        display(k_size_med)\n",
    "        \n",
    "def f2(savgol_check): ## Savgol Filtering\n",
    "    \n",
    "    if savgol_check==True:\n",
    "        \n",
    "        k_size_savgol = widgets.IntSlider(value=11,min=1,max=53,step=2,description='Kernel Size',disabled=False,continuous_update=True,orientation='horizontal',readout=True,readout_format='d')\n",
    "        display(k_size_savgol)\n",
    "        \n",
    "        p_order_savgol = widgets.IntSlider(value=1,min=1,max=11,step=2,description='Polynomial Order',disabled=False,continuous_update=True,orientation='horizontal',readout=True,readout_format='d')\n",
    "        display(p_order_savgol)\n",
    "\n",
    "def f3(clean_check):\n",
    "    \n",
    "    if clean_check==True:\n",
    "        \n",
    "        style = {'description_width': 'initial'}\n",
    "        erp = widgets.IntSlider(value=5,min=-10,max=100,step=1,description='Error Percentage %',disabled=False,continuous_update=True,orientation='horizontal',readout=True,readout_format='d',style=style)\n",
    "        display(erp)\n",
    "\n",
    "def f(intes_data_check):\n",
    "    \n",
    "    #clr_plot = widgets.ToggleButton(value=False,description='Click me',disabled=False,button_style='success',icon='check')\n",
    "    #display(clr_plt)\n",
    "    #clr\n",
    "    \n",
    "    if intes_data_check ==True:\n",
    "        \n",
    "        intes_data_check_value = 0\n",
    "        \n",
    "        style = {'description_width': 'initial'}\n",
    "        \n",
    "        med_check_w=widgets.Checkbox(value=False,description='Median Filtering',disabled=False,indent=False)\n",
    "        interact(f1,med_check=med_check_w)\n",
    "        savgol_check_w=widgets.Checkbox(value=False,description='Savgol Filtering',disabled=False,indent=False)\n",
    "        interact(f2,savgol_check=savgol_check_w)\n",
    "        clean_check_w=widgets.Checkbox(value=False,description='Data Cleaning',disabled=False,indent=False)\n",
    "        interact(f3,clean_check=clean_check_w)\n",
    "        \n",
    "        \n",
    "        print(\"\\nSelect tungsten halogen (Blue Ocean optics HL2000) lamp spectrum for intensity correction \\n(optional; if none is chosen, default intensity correction factor will be used): \")\n",
    "        selectHalLamp_1 = SelectFilesButton()\n",
    "        display(selectHalLamp_1)\n",
    "        \n",
    "        min_val_intensity = widgets.BoundedFloatText(value=550,min=0,max=1000,step=0.1,description='Minimum Intensity',disabled=False,style=style)\n",
    "        display(min_val_intensity)\n",
    "        \n",
    "    else:\n",
    "        intes_data_check_value = 1\n",
    "        \n",
    "    return"
   ]
  },
  {
   "cell_type": "markdown",
   "metadata": {
    "hidden": true
   },
   "source": [
    "<span style=\"font-family:arial; font-size:16pt;\">Set the value of ***max_val_intensity*** to a number. The max of the intensity correction data should be above this value to be considered in further caluclation.\n",
    "<br>\n",
    "<br>\n",
    "The considered intensity correction file names will be printed and saved with ***_cleaned*** at the end of the original name with *.txt* extension.</span>"
   ]
  },
  {
   "cell_type": "code",
   "execution_count": 6,
   "metadata": {
    "hidden": true
   },
   "outputs": [
    {
     "data": {
      "application/vnd.jupyter.widget-view+json": {
       "model_id": "eafee044ca4a4ee3b6814db3e51c839a",
       "version_major": 2,
       "version_minor": 0
      },
      "text/plain": [
       "interactive(children=(Checkbox(value=False, description='Clean lamp data', indent=False), Output()), _dom_clas…"
      ]
     },
     "metadata": {},
     "output_type": "display_data"
    },
    {
     "data": {
      "application/vnd.jupyter.widget-view+json": {
       "model_id": "14cad8d33b624caf8dcf76ade81c4bf4",
       "version_major": 2,
       "version_minor": 0
      },
      "text/plain": [
       "Output()"
      ]
     },
     "metadata": {},
     "output_type": "display_data"
    }
   ],
   "source": [
    "intes_data_check_w=widgets.Checkbox(value=False,description='Clean lamp data',disabled=False,indent=False)\n",
    "#display(intes_data_check_w)\n",
    "interact(f,intes_data_check=intes_data_check_w)\n",
    "output = widgets.Output()\n",
    "display(output)"
   ]
  },
  {
   "cell_type": "code",
   "execution_count": 38,
   "metadata": {
    "scrolled": true
   },
   "outputs": [
    {
     "name": "stdout",
     "output_type": "stream",
     "text": [
      "\n",
      "Select tungsten halogen (Blue Ocean optics HL2000) lamp spectrum for intensity correction \n",
      "(optional; if none is chosen, default intensity correction factor will be used): \n"
     ]
    },
    {
     "data": {
      "application/vnd.jupyter.widget-view+json": {
       "model_id": "c6bbd7c395ca4978beb6eb458ad77f6d",
       "version_major": 2,
       "version_minor": 0
      },
      "text/plain": [
       "SelectFilesButton(description='Select File', icon='square-o', style=ButtonStyle(button_color='orange'))"
      ]
     },
     "metadata": {},
     "output_type": "display_data"
    }
   ],
   "source": [
    "intens_corr_cleaning = 'n'\n",
    "do_savgol_filtering = True\n",
    "do_median_filtering = False\n",
    "do_data_cleaning = True\n",
    "\n",
    "p_order_savgol = 1\n",
    "k_size_savgol = 9\n",
    "erp = -5\n",
    "\n",
    "print(\"\\nSelect tungsten halogen (Blue Ocean optics HL2000) lamp spectrum for intensity correction \\n(optional; if none is chosen, default intensity correction factor will be used): \")\n",
    "selectHalLamp_1 = SelectFilesButton()\n",
    "display(selectHalLamp_1)"
   ]
  },
  {
   "cell_type": "code",
   "execution_count": 39,
   "metadata": {
    "code_folding": [],
    "hidden": true,
    "scrolled": true
   },
   "outputs": [
    {
     "name": "stderr",
     "output_type": "stream",
     "text": [
      "\r",
      "  0%|                                                                                           | 0/10 [00:00<?, ?it/s]"
     ]
    },
    {
     "name": "stdout",
     "output_type": "stream",
     "text": [
      "Entered if\n"
     ]
    },
    {
     "name": "stderr",
     "output_type": "stream",
     "text": [
      "No handles with labels found to put in legend.\n",
      " 10%|████████▎                                                                          | 1/10 [00:00<00:05,  1.63it/s]No handles with labels found to put in legend.\n",
      " 20%|████████████████▌                                                                  | 2/10 [00:01<00:04,  1.86it/s]No handles with labels found to put in legend.\n",
      " 30%|████████████████████████▉                                                          | 3/10 [00:01<00:03,  1.81it/s]No handles with labels found to put in legend.\n",
      " 40%|█████████████████████████████████▏                                                 | 4/10 [00:02<00:03,  1.73it/s]No handles with labels found to put in legend.\n",
      " 50%|█████████████████████████████████████████▌                                         | 5/10 [00:02<00:02,  1.85it/s]No handles with labels found to put in legend.\n",
      " 60%|█████████████████████████████████████████████████▊                                 | 6/10 [00:03<00:02,  1.83it/s]No handles with labels found to put in legend.\n",
      " 70%|██████████████████████████████████████████████████████████                         | 7/10 [00:03<00:01,  1.89it/s]No handles with labels found to put in legend.\n",
      " 80%|██████████████████████████████████████████████████████████████████▍                | 8/10 [00:04<00:01,  1.90it/s]No handles with labels found to put in legend.\n",
      " 90%|██████████████████████████████████████████████████████████████████████████▋        | 9/10 [00:04<00:00,  2.00it/s]No handles with labels found to put in legend.\n",
      "100%|██████████████████████████████████████████████████████████████████████████████████| 10/10 [00:05<00:00,  1.89it/s]\n"
     ]
    },
    {
     "data": {
      "image/png": "[encoded data removed]",
      "text/plain": [
       "<Figure size 720x504 with 1 Axes>"
      ]
     },
     "metadata": {
      "needs_background": "light"
     },
     "output_type": "display_data"
    }
   ],
   "source": [
    "if intens_corr_cleaning == 'n':\n",
    "    print('Entered if')\n",
    "\n",
    "    flamp_1=selectHalLamp_1.files\n",
    "    \n",
    "    for i in tqdm(range(len(flamp_1))):\n",
    "        \n",
    "        head, tail = os.path.split(flamp_1[i])\n",
    "\n",
    "        x_data,y_data = get_data(flamp_1,i)\n",
    "        \n",
    "        if do_savgol_filtering == True:\n",
    "            savgol_filt_data = filter_savgol(y_data,k_size_savgol,p_order_savgol)\n",
    "        else:\n",
    "            savgol_filt_data = y_data\n",
    "\n",
    "        if do_median_filtering == True:\n",
    "            filt_data = filter_median(savgol_filt_data,k_size)\n",
    "        else:\n",
    "            filt_data = savgol_filt_data\n",
    "\n",
    "        if do_data_cleaning == True:\n",
    "            cleaned_data = data_cleaning(filt_data,erp)\n",
    "        else:\n",
    "            cleaned_data = filt_data\n",
    "            \n",
    "        max_val_intensity = 550 ## set the value of intesnity that an intensity correction file should have to get considered\n",
    "\n",
    "        if np.max(cleaned_data)>max_val_intensity:\n",
    "            #print(flamp_1[i])\n",
    "\n",
    "            datamatrix = np.column_stack((x_data,cleaned_data)) # Compiles corrected data into a new matrix\n",
    "            savename = flamp_1[i][:-4]+\"_cleaned.txt\" # Create filename for new data\n",
    "            np.savetxt(savename,datamatrix) # Save new data\n",
    "            \n",
    "            plt.plot(x_data,y_data)\n",
    "            plt.plot(x_data,cleaned_data)\n",
    "            #plt.plot(x_data,filt_data)\n",
    "            #plt.plot(x_data,savgol_filt_data)\n",
    "            \n",
    "            plt.xlabel('Wavelength (nm)')\n",
    "            plt.ylabel('Intensity (a.u.)')\n",
    "            #plt.ylim(0,1000)\n",
    "            plt.legend()\n",
    "            #plt.ylim(100,250)\n",
    "            plt.title(tail)\n",
    "    plt.show()\n",
    "    \n",
    "else:\n",
    "    print('Went away')\n",
    "    pass\n",
    "    "
   ]
  },
  {
   "cell_type": "markdown",
   "metadata": {},
   "source": [
    "## Manual Intensity Correction"
   ]
  },
  {
   "cell_type": "markdown",
   "metadata": {},
   "source": [
    "### Perform intensity correction on the spectra data files\n",
    "\n",
    "<span style=\"font-family:arial; font-size:12pt;\"> Use the ***_cleaned*** intensity correction file from the above and upload it in the HalLamp below.\n",
    "    <br>\n",
    "    <br>\n",
    "    Upload the all spectra files in the first Select Files button.\n",
    "    The intensity corrected spectra data files will be stored in the same folder as the original file with a ***_calib*** at the end of the name. You can use this intensity calibrated file for future use and analysis."
   ]
  },
  {
   "cell_type": "code",
   "execution_count": 43,
   "metadata": {
    "code_folding": [],
    "scrolled": true
   },
   "outputs": [
    {
     "name": "stdout",
     "output_type": "stream",
     "text": [
      "Select data files you want to analyze: \n"
     ]
    },
    {
     "data": {
      "application/vnd.jupyter.widget-view+json": {
       "model_id": "a55fed4fd81b4f5c8905a871a5d878d3",
       "version_major": 2,
       "version_minor": 0
      },
      "text/plain": [
       "SelectFilesButton(description='Select File', icon='square-o', style=ButtonStyle(button_color='orange'))"
      ]
     },
     "metadata": {},
     "output_type": "display_data"
    }
   ],
   "source": [
    "print(\"Select data files you want to analyze: \")\n",
    "selectFiles = SelectFilesButton()\n",
    "display(selectFiles)\n",
    "\n",
    "do_intensity_correction = 'n'\n",
    "\n",
    "if do_intensity_correction == 'y':\n",
    "    print(\"Select data dark BKG: (Optional, don't use if background already subtracted)\")\n",
    "    selectDark = SelectFilesButton()\n",
    "    display(selectDark)\n",
    "    print(\"________________________________________________________________________________________________________\")\n",
    "\n",
    "    print(\"\\nSelect tungsten halogen (Blue Ocean optics HL2000) lamp spectrum for intensity correction \\n(optional; if none is chosen, default intensity correction factor will be used): \")\n",
    "    selectHalLamp = SelectFilesButton()\n",
    "    display(selectHalLamp)\n",
    "\n",
    "    print(\"\\nSelect baseline spectrum for tungsten lamp measurement: (Optional, don't use if background already subtracted)\")\n",
    "    selectBaseline = SelectFilesButton()\n",
    "    display(selectBaseline)\n",
    "    print(\"________________________________________________________________________________________________________\")\n",
    "\n",
    "else:\n",
    "    pass"
   ]
  },
  {
   "cell_type": "code",
   "execution_count": 44,
   "metadata": {
    "code_folding": []
   },
   "outputs": [],
   "source": [
    "## Variables\n",
    "\n",
    "is_MAF_RW_file = 'n'  # 'y', 'n'\n",
    "\n",
    "do_baseline_subtraction = 'n' # 'y', 'n'\n",
    "do_median_filtering = 'n' # 'y', 'n'\n",
    "do_data_cleaning = 'n' # 'y', 'n'\n",
    "do_savgol_filtering = 'n' # 'y', 'n'\n",
    "do_conversion = 'n' # 'raman', 'energy', 'n'\n",
    "do_normalize = 'actual' # 'scale', 'actual', 'n'\n",
    "\n",
    "p_order = 5 # Polynomial order for baseline subtraction\n",
    "k_size = 7 # Kernel size for Median Filtering\n",
    "erp = 5\n",
    "k_size_savgol = 11\n",
    "p_order_savgol = 1\n"
   ]
  },
  {
   "cell_type": "code",
   "execution_count": 50,
   "metadata": {
    "code_folding": []
   },
   "outputs": [
    {
     "name": "stderr",
     "output_type": "stream",
     "text": [
      "100%|████████████████████████████████████████████████████████████████████████████████████| 2/2 [00:00<00:00, 62.53it/s]\n"
     ]
    },
    {
     "data": {
      "image/png": "[encoded data removed]",
      "text/plain": [
       "<Figure size 720x504 with 1 Axes>"
      ]
     },
     "metadata": {
      "needs_background": "light"
     },
     "output_type": "display_data"
    }
   ],
   "source": [
    "fdata = selectFiles.files\n",
    "\n",
    "matplotlib.rcParams['font.sans-serif'] = ['Arial']\n",
    "plt.rcParams[\"figure.figsize\"] = (10, 7)\n",
    "\n",
    "SMALL_SIZE = 16\n",
    "MEDIUM_SIZE = 18\n",
    "BIGGER_SIZE = 20\n",
    "\n",
    "plt.rc('font', size=SMALL_SIZE)  # controls default text sizes\n",
    "plt.rc('axes', titlesize=SMALL_SIZE)  # fontsize of the axes title\n",
    "plt.rc('axes', labelsize=MEDIUM_SIZE)  # fontsize of the x and y labels\n",
    "plt.rc('xtick', labelsize=SMALL_SIZE)  # fontsize of the tick labels\n",
    "plt.rc('ytick', labelsize=SMALL_SIZE)  # fontsize of the tick labels\n",
    "plt.rc('legend', fontsize=SMALL_SIZE)  # legend fontsize\n",
    "plt.rc('figure', titlesize=BIGGER_SIZE)  # fontsize of the figure title\n",
    "\n",
    "x_range_min = []\n",
    "x_range_max = []\n",
    "file_data_df = pd.DataFrame()\n",
    "\n",
    "x_label = 'Wavelength (nm)'\n",
    "\n",
    "if do_intensity_correction == 'y':\n",
    "    fdark = selectDark.files\n",
    "    flamp = selectHalLamp.files\n",
    "    flampbase = selectBaseline.files\n",
    "else:\n",
    "    pass\n",
    "\n",
    "laser_power = []\n",
    "peak_intens = []\n",
    "\n",
    "counter = 0\n",
    "\n",
    "fig, ax1 = plt.subplots(1, 1)\n",
    "\n",
    "mp = []\n",
    "\n",
    "for i in tqdm(range(len(fdata))):\n",
    "\n",
    "    head_i, tail_i = os.path.split(fdata[i])\n",
    "\n",
    "    if is_MAF_RW_file == 'y':\n",
    "        x_data, y_data = get_data_MAF_RW(fdata, i)\n",
    "        x_label = 'Raman shift(cm$^{-1}$)'\n",
    "\n",
    "    else:\n",
    "        x_data, y_data = get_data(fdata, i)\n",
    "\n",
    "    if do_intensity_correction == 'y':\n",
    "        x_data, y_data, intens_data = i_corr(fdata, i)\n",
    "    else:\n",
    "        intens_data = y_data\n",
    "\n",
    "    if do_normalize == 'scale':\n",
    "        norm_intens_data = (intens_data - np.min(intens_data)) / (np.max(intens_data) - np.min(intens_data))\n",
    "    elif do_normalize == 'actual':\n",
    "        norm_intens_data = intens_data / np.max(intens_data)\n",
    "    else:\n",
    "        norm_intens_data = intens_data\n",
    "\n",
    "    if do_median_filtering == 'y':\n",
    "        filt_data = filter_median(norm_intens_data, k_size)\n",
    "    else:\n",
    "        filt_data = norm_intens_data\n",
    "\n",
    "    if do_baseline_subtraction == 'y':\n",
    "        base = subtract_bsl(filt_data, p_order)\n",
    "    else:\n",
    "        base = 0\n",
    "\n",
    "    bsl_subt_data = filt_data - base\n",
    "\n",
    "    if do_data_cleaning == 'y':\n",
    "        cleaned_data = data_cleaning(bsl_subt_data, erp)\n",
    "    else:\n",
    "        cleaned_data = bsl_subt_data\n",
    "\n",
    "    if do_savgol_filtering == 'y':\n",
    "        savgol_filt_data = filter_savgol(cleaned_data, k_size_savgol,p_order_savgol)\n",
    "    else:\n",
    "        savgol_filt_data = cleaned_data\n",
    "\n",
    "    if do_conversion == 'raman':\n",
    "        x_val = 10**7 / 532 - 10**7 / x_data\n",
    "        x_label = 'Raman shift(cm$^{-1}$)'\n",
    "        y_val = savgol_filt_data\n",
    "    elif do_conversion == 'energy':\n",
    "        x_val = 1232 / x_data\n",
    "        x_label = 'Energy(eV)'\n",
    "        y_val = (1232 / (x_data**2)) * y_data\n",
    "    else:\n",
    "        x_val = x_data\n",
    "        y_val = savgol_filt_data\n",
    "\n",
    "    ### Pressure finding\n",
    "\n",
    "    w_size = 9\n",
    "    p_prom = 0\n",
    "    thresh = 0.3\n",
    "    \n",
    "    # mp = np.append(mp,press_find(thresh,x_val,y_val,w_size,p_prom))\n",
    "    \n",
    "    peak_x = x_val[find_peaks(y_val,width=w_size,prominence=p_prom)[0]]\n",
    "    peak_y = savgol_filt_data[find_peaks(y_val,width=w_size,prominence=p_prom)[0]]\n",
    "    #print(peak_x, peak_y)\n",
    "    \n",
    "    lab = ['After LH - 20.22 GPa', 'Before LH - 21.37 GPa']\n",
    "    \n",
    "    ax1.set_title(\"MDAC - G4 - Ruby Pressure - before vs after laser heating\")\n",
    "    ax1.set_xlabel(x_label)\n",
    "    ax1.set_ylabel('Intensity (counts)')\n",
    "\n",
    "    if  np.max(y_val)>thresh:\n",
    "        #mp = np.append(mp,press_find(thresh,x_val,y_val,w_size,p_prom))\n",
    "        # ax1.plot(x_val, y_data/np.max(y_data), color='r', label='Actual Data')\n",
    "        ax1.plot(x_val, y_val, lw=2, label=lab[i])\n",
    "        #ax1.plot(peak_x, peak_y, 'X', color='b')\n",
    "    \n",
    "    # ax1.annotate('584.17 nm \\n 1678.69 cm$^{-1}$',xy=(584.1, 1), xytext=(565, 0.92), arrowprops=dict(facecolor='blue', shrink=0.05), horizontalalignment='right', verticalalignment='top')\n",
    "    # ax1.annotate('635.527 nm \\n 3062.02 cm$^{-1}$',xy=(635.52, 0.63), xytext=(700, 0.8), arrowprops=dict(facecolor='blue', shrink=0.05), horizontalalignment='right', verticalalignment='top')\n",
    "\n",
    "    ax1.legend(bbox_to_anchor=(0.5, -0.3), loc='center')\n",
    "    # plt.tight_layout()\n",
    "plt.grid(color = 'green', which='both', linestyle = '--', linewidth = 0.5, alpha=0.2)\n",
    "plt.show()\n",
    "# print(file_data_df)"
   ]
  },
  {
   "cell_type": "code",
   "execution_count": null,
   "metadata": {},
   "outputs": [],
   "source": []
  }
 ],
 "metadata": {
  "celltoolbar": "Initialization Cell",
  "kernelspec": {
   "display_name": "Python 3 (ipykernel)",
   "language": "python",
   "name": "python3"
  },
  "language_info": {
   "codemirror_mode": {
    "name": "ipython",
    "version": 3
   },
   "file_extension": ".py",
   "mimetype": "text/x-python",
   "name": "python",
   "nbconvert_exporter": "python",
   "pygments_lexer": "ipython3",
   "version": "3.10.4"
  },
  "varInspector": {
   "cols": {
    "lenName": 16,
    "lenType": 16,
    "lenVar": 40
   },
   "kernels_config": {
    "python": {
     "delete_cmd_postfix": "",
     "delete_cmd_prefix": "del ",
     "library": "var_list.py",
     "varRefreshCmd": "print(var_dic_list())"
    },
    "r": {
     "delete_cmd_postfix": ") ",
     "delete_cmd_prefix": "rm(",
     "library": "var_list.r",
     "varRefreshCmd": "cat(var_dic_list()) "
    }
   },
   "position": {
    "height": "554px",
    "left": "1550px",
    "right": "20px",
    "top": "120px",
    "width": "350px"
   },
   "types_to_exclude": [
    "module",
    "function",
    "builtin_function_or_method",
    "instance",
    "_Feature"
   ],
   "window_display": false
  }
 },
 "nbformat": 4,
 "nbformat_minor": 2
}
